{
 "cells": [
  {
   "cell_type": "code",
   "execution_count": 20,
   "metadata": {},
   "outputs": [],
   "source": [
    "import os\n",
    "import openpyxl\n",
    "import pandas as pd"
   ]
  },
  {
   "cell_type": "code",
   "execution_count": 12,
   "metadata": {},
   "outputs": [],
   "source": [
    "carpeta = 'ruta\\archivo'\n",
    "archivos_excel = os.listdir(carpeta)\n",
    "tabla_madre = pd.DataFrame()"
   ]
  },
  {
   "cell_type": "code",
   "execution_count": 26,
   "metadata": {},
   "outputs": [],
   "source": [
    "for archivo in archivos_excel:\n",
    "    if archivo.endswith('.xlsx'):  # Solo considerar los archivos con extensión .xlsx\n",
    "        ruta_archivo = os.path.join(carpeta, archivo)\n",
    "        \n",
    "        # Leer el libro de Excel y seleccionar la página con los datos deseados\n",
    "        datos = pd.read_excel(ruta_archivo, sheet_name='nombre pagina')\n",
    "        \n",
    "        # Aplicar el filtro a los datos \n",
    "        datos_filtrados = datos[datos['nombre columna'] == 'filtro que aplicare']\n",
    "        \n",
    "        # Agregar los datos filtrados \n",
    "        tabla_madre = pd.concat([tabla_madre, datos_filtrados], ignore_index=True)\n",
    "        \n",
    "tabla_madre.to_excel('tabla_madre.xlsx', index=False)"
   ]
  }
 ],
 "metadata": {
  "kernelspec": {
   "display_name": "Python 3",
   "language": "python",
   "name": "python3"
  },
  "language_info": {
   "codemirror_mode": {
    "name": "ipython",
    "version": 3
   },
   "file_extension": ".py",
   "mimetype": "text/x-python",
   "name": "python",
   "nbconvert_exporter": "python",
   "pygments_lexer": "ipython3",
   "version": "3.11.0"
  },
  "orig_nbformat": 4,
  "vscode": {
   "interpreter": {
    "hash": "79c66bfd66be7d22f6e59d8642154c90cc6224afd07f45e8965c4f07fb96659e"
   }
  }
 },
 "nbformat": 4,
 "nbformat_minor": 2
}
