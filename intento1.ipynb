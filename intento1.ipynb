{
 "cells": [
  {
   "cell_type": "code",
   "execution_count": 1,
   "metadata": {},
   "outputs": [],
   "source": [
    "from google.cloud import storage\n",
    "from oauth2client.service_account import ServiceAccountCredentials\n",
    "import os\n",
    "import shutil\n",
    "from os import listdir\n",
    "from os import scandir, getcwd\n",
    "from os.path import join\n",
    "from os.path import dirname\n",
    "from os.path import basename\n",
    "import numpy as np\n"
   ]
  },
  {
   "cell_type": "code",
   "execution_count": 4,
   "metadata": {},
   "outputs": [],
   "source": [
    "def upload_to_bucket(blob_name, path_to_file, bucket_name):\n",
    "    \"\"\" Upload data to a bucket\"\"\"\n",
    "     \n",
    "    # Explicitly use service account credentials by specifying the private key\n",
    "    # file.\n",
    "    storage_client = storage.Client.from_service_account_json(\n",
    "        'key.json')\n",
    "\n",
    "    #print(buckets = list(storage_client.list_buckets())\n",
    "\n",
    "    bucket = storage_client.get_bucket(bucket_name)\n",
    "    blob = bucket.blob(blob_name)\n",
    "    blob.upload_from_filename(path_to_file)\n",
    "    \n",
    "    #returns a public url\n",
    "    return blob.public_url\n"
   ]
  },
  {
   "cell_type": "code",
   "execution_count": 5,
   "metadata": {},
   "outputs": [],
   "source": [
    "#nombres para el bucket\n",
    "def nombres(ruta = '.'):\n",
    "    return listdir(ruta)\n",
    "\n",
    "#ruta del documento\n",
    "def ls(ruta = getcwd()):\n",
    "    return [join(dirname(arch.path),basename(arch.path)) for arch in scandir(ruta) if arch.is_file()]\n"
   ]
  },
  {
   "cell_type": "code",
   "execution_count": 6,
   "metadata": {},
   "outputs": [],
   "source": [
    "a=np.array(nombres(\"archivos\"))\n",
    "b=np.array(ls(\"archivos\"))"
   ]
  },
  {
   "cell_type": "code",
   "execution_count": 7,
   "metadata": {},
   "outputs": [],
   "source": [
    "for i in range (len(a)):\n",
    "    upload_to_bucket(a[i],b[i],\"demo-stratus\" )\n",
    "    shutil.move(b[i], \"historico\")\n"
   ]
  }
 ],
 "metadata": {
  "kernelspec": {
   "display_name": "Python 3.11.0 ('env1': venv)",
   "language": "python",
   "name": "python3"
  },
  "language_info": {
   "codemirror_mode": {
    "name": "ipython",
    "version": 3
   },
   "file_extension": ".py",
   "mimetype": "text/x-python",
   "name": "python",
   "nbconvert_exporter": "python",
   "pygments_lexer": "ipython3",
   "version": "3.11.0"
  },
  "orig_nbformat": 4,
  "vscode": {
   "interpreter": {
    "hash": "9e0d0dde607a6e2298f535262d8c26fc677ea9ac4d21e1768f9ac21f46d3c8ad"
   }
  }
 },
 "nbformat": 4,
 "nbformat_minor": 2
}
